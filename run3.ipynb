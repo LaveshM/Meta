{
 "cells": [
  {
   "cell_type": "code",
   "execution_count": 1,
   "metadata": {},
   "outputs": [],
   "source": [
    "import torch\n",
    "import higher\n",
    "import matplotlib.pyplot as plt\n",
    "import numpy as np\n",
    "import scipy.io as aio"
   ]
  },
  {
   "cell_type": "code",
   "execution_count": 45,
   "metadata": {},
   "outputs": [],
   "source": [
    "HH = aio.loadmat('H.mat')['H']\n",
    "H = torch.tensor(HH, dtype=torch.complex64)\n"
   ]
  },
  {
   "cell_type": "code",
   "execution_count": 49,
   "metadata": {},
   "outputs": [
    {
     "data": {
      "text/plain": [
       "tensor(7.9013e-05)"
      ]
     },
     "execution_count": 49,
     "metadata": {},
     "output_type": "execute_result"
    }
   ],
   "source": [
    "H_abs = torch.abs(H)\n",
    "H_abs.min()"
   ]
  },
  {
   "cell_type": "code",
   "execution_count": 46,
   "metadata": {},
   "outputs": [
    {
     "data": {
      "text/plain": [
       "[<matplotlib.lines.Line2D at 0x21f0c44d850>]"
      ]
     },
     "execution_count": 46,
     "metadata": {},
     "output_type": "execute_result"
    },
    {
     "data": {
      "image/png": "[encoded data removed]",
      "text/plain": [
       "<Figure size 640x480 with 1 Axes>"
      ]
     },
     "metadata": {},
     "output_type": "display_data"
    }
   ],
   "source": [
    "#get absolute value of complex of H\n",
    "H_abs = torch.abs(H[:,:,0])\n",
    "#lay lal value in a single dimensional array\n",
    "H_abs = H_abs.flatten()\n",
    "#sort the array\n",
    "H_abs = torch.sort(H_abs).values\n",
    "#plot the sorted array\n",
    "plt.plot(H_abs)\n",
    "\n"
   ]
  },
  {
   "cell_type": "code",
   "execution_count": 47,
   "metadata": {},
   "outputs": [
    {
     "data": {
      "text/plain": [
       "tensor([0.0029, 0.0029, 0.0036, 0.0070, 0.0076, 0.0097, 0.0099, 0.0102, 0.0109,\n",
       "        0.0110, 0.0144, 0.0166, 0.0185, 0.0188, 0.0189, 0.0204, 0.0205, 0.0224,\n",
       "        0.0256, 0.0279, 0.0280, 0.0316, 0.0320, 0.0333, 0.0335, 0.0343, 0.0358,\n",
       "        0.0359, 0.0362, 0.0365, 0.0368, 0.0380, 0.0380, 0.0390, 0.0417, 0.0422,\n",
       "        0.0422, 0.0453, 0.0462, 0.0483, 0.0501, 0.0521, 0.0523, 0.0523, 0.0552,\n",
       "        0.0610, 0.0624, 0.0641, 0.0857, 0.0857, 0.1012, 0.1065, 0.1077, 0.1078,\n",
       "        0.1561, 0.1692, 0.2040, 0.2549, 0.2745, 0.7326])"
      ]
     },
     "execution_count": 47,
     "metadata": {},
     "output_type": "execute_result"
    }
   ],
   "source": [
    "H_abs"
   ]
  },
  {
   "cell_type": "code",
   "execution_count": 21,
   "metadata": {},
   "outputs": [
    {
     "data": {
      "text/plain": [
       "torch.Size([4, 2, 1])"
      ]
     },
     "execution_count": 21,
     "metadata": {},
     "output_type": "execute_result"
    }
   ],
   "source": [
    "\n",
    "#choose a random number out of 1000 \n",
    "t = torch.randint(0,1000,(1,))\n",
    "H[:,:,t].shape\n"
   ]
  },
  {
   "cell_type": "code",
   "execution_count": 27,
   "metadata": {},
   "outputs": [],
   "source": [
    "k=2\n",
    "N = 3200\n",
    "y = torch.zeros(N)\n",
    "\n",
    "y = torch.arange(N)%4\n",
    "\n",
    "p = torch.zeros(N, dtype=torch.complex64)\n",
    "p.real = torch.tile(torch.FloatTensor([-1,-1,1,1]), (N//4,1)).reshape(-1)\n",
    "p.imag = torch.tile(torch.FloatTensor([-1,1,-1,1]), (N//4,1)).reshape(-1)\n",
    "#identity matrix\n",
    "HH = aio.loadmat('H.mat')['H']\n",
    "H = torch.tensor(HH, dtype=torch.complex64)\n",
    "Ml = H.shape[0]\n",
    "\n",
    "\n",
    "\n",
    "t = torch.randint(0,1000,(1,))\n",
    "h = torch.squeeze(H[:,:,t]).T\n",
    "# change p vector to a random permutaion of itself\n",
    "perm = torch.zeros(N, dtype=torch.int)\n",
    "X = torch.zeros(N,k, dtype=torch.complex64)\n",
    "labels = torch.zeros(N, k)\n",
    "for i in range(k):\n",
    "    perm = torch.randperm(N)\n",
    "    X[:,i] = p[perm]\n",
    "    labels[:,i] = y[perm]\n",
    "#sample noise from a complex normal\n",
    "\n"
   ]
  },
  {
   "cell_type": "code",
   "execution_count": 35,
   "metadata": {},
   "outputs": [
    {
     "data": {
      "text/plain": [
       "torch.Size([3200, 4])"
      ]
     },
     "execution_count": 35,
     "metadata": {},
     "output_type": "execute_result"
    }
   ],
   "source": [
    "y = X@h\n",
    "noise = torch.randn(N, Ml, dtype=torch.complex64)\n",
    "noise.shape"
   ]
  },
  {
   "cell_type": "code",
   "execution_count": 41,
   "metadata": {},
   "outputs": [
    {
     "data": {
      "text/plain": [
       "tensor(0.0045-0.0161j)"
      ]
     },
     "execution_count": 41,
     "metadata": {},
     "output_type": "execute_result"
    }
   ],
   "source": [
    "noise = noise / torch.sqrt(torch.mean(torch.abs(noise)**2))\n",
    "noise.mean()"
   ]
  },
  {
   "cell_type": "code",
   "execution_count": 44,
   "metadata": {},
   "outputs": [
    {
     "data": {
      "text/plain": [
       "torch.Size([3200, 4])"
      ]
     },
     "execution_count": 44,
     "metadata": {},
     "output_type": "execute_result"
    }
   ],
   "source": [
    "dd = noise.real\n",
    "dd.shape"
   ]
  }
 ],
 "metadata": {
  "kernelspec": {
   "display_name": "torch",
   "language": "python",
   "name": "python3"
  },
  "language_info": {
   "codemirror_mode": {
    "name": "ipython",
    "version": 3
   },
   "file_extension": ".py",
   "mimetype": "text/x-python",
   "name": "python",
   "nbconvert_exporter": "python",
   "pygments_lexer": "ipython3",
   "version": "3.9.18"
  }
 },
 "nbformat": 4,
 "nbformat_minor": 2
}
