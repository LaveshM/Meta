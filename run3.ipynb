{
 "cells": [
  {
   "cell_type": "code",
   "execution_count": 1,
   "metadata": {},
   "outputs": [],
   "source": [
    "import torch\n",
    "import higher\n",
    "import matplotlib.pyplot as plt\n",
    "import numpy as np\n",
    "import scipy.io as aio"
   ]
  },
  {
   "cell_type": "code",
   "execution_count": 2,
   "metadata": {},
   "outputs": [
    {
     "name": "stdout",
     "output_type": "stream",
     "text": [
      "\n",
      "H torch.Size([10, 10, 10000])\n",
      "p torch.Size([6400])\n",
      "H torch.Size([10, 10, 10000])\n",
      "p torch.Size([6400])\n",
      "ML algorithm = MAML\n",
      "Training is started.\n",
      "Log is stored at .\\meta_learning\\maml\\LcNet.\n",
      "\n",
      "Number of parameters of the base network = 2,384.\n",
      "\n",
      "Epoch 5, Episode 1000: NLL = 4.9648, Accuracy = 36.68\n",
      "State dictionaries are saved into .\\meta_learning\\maml\\LcNet\\Epoch_5.pt\n",
      "meta-lr: 0.01 , inner-lr: 0.1 , num_inner_updates: 1\n",
      "arc: [16, 32, 16] \n",
      "\n",
      "Epoch 6, Episode 1000: NLL = 5.0113, Accuracy = 35.89\n",
      "State dictionaries are saved into .\\meta_learning\\maml\\LcNet\\Epoch_6.pt\n",
      "meta-lr: 0.01 , inner-lr: 0.1 , num_inner_updates: 1\n",
      "arc: [16, 32, 16] \n",
      "\n",
      "Epoch 7, Episode 1000: NLL = 5.1345, Accuracy = 33.92\n",
      "State dictionaries are saved into .\\meta_learning\\maml\\LcNet\\Epoch_7.pt\n",
      "meta-lr: 0.01 , inner-lr: 0.1 , num_inner_updates: 1\n",
      "arc: [16, 32, 16] \n",
      "\n",
      "Epoch 8, Episode 1000: NLL = 5.0418, Accuracy = 35.46\n",
      "State dictionaries are saved into .\\meta_learning\\maml\\LcNet\\Epoch_8.pt\n",
      "meta-lr: 0.01 , inner-lr: 0.1 , num_inner_updates: 1\n",
      "arc: [16, 32, 16] \n",
      "\n",
      "Epoch 9, Episode 1000: NLL = 4.8926, Accuracy = 38.94\n",
      "State dictionaries are saved into .\\meta_learning\\maml\\LcNet\\Epoch_9.pt\n",
      "meta-lr: 0.01 , inner-lr: 0.1 , num_inner_updates: 1\n",
      "arc: [16, 32, 16] \n",
      "\n",
      "Training is completed.\n",
      "\n",
      "Close tensorboard summary writer\n"
     ]
    }
   ],
   "source": [
    "!python main2.py --ml-algorithm MAML --network-architecture LcNet --no-batchnorm --num-ways 4 --k-shot 5 --num-epochs 5 --resume-epoch 4 --train"
   ]
  }
 ],
 "metadata": {
  "kernelspec": {
   "display_name": "torch",
   "language": "python",
   "name": "python3"
  },
  "language_info": {
   "codemirror_mode": {
    "name": "ipython",
    "version": 3
   },
   "file_extension": ".py",
   "mimetype": "text/x-python",
   "name": "python",
   "nbconvert_exporter": "python",
   "pygments_lexer": "ipython3",
   "version": "3.9.18"
  }
 },
 "nbformat": 4,
 "nbformat_minor": 2
}
