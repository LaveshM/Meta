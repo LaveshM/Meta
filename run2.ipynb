{
 "cells": [
  {
   "cell_type": "code",
   "execution_count": 2,
   "metadata": {},
   "outputs": [],
   "source": [
    "import torch\n",
    "import higher\n",
    "import matplotlib.pyplot as plt\n",
    "import numpy as np\n"
   ]
  },
  {
   "cell_type": "code",
   "execution_count": 58,
   "metadata": {},
   "outputs": [
    {
     "data": {
      "text/plain": [
       "tensor([[-0.8532, -0.2158],\n",
       "        [-1.0629, -0.3328]])"
      ]
     },
     "execution_count": 58,
     "metadata": {},
     "output_type": "execute_result"
    }
   ],
   "source": [
    "t = torch.FloatTensor([torch.randint(0, 4, ()) * 0.2 +0.2])\n",
    "#cov matix is 1,t,t,1\n",
    "cov = torch.FloatTensor([[1,t],[t,1]])\n",
    "#h is a 2x1 vector sampled from a complex normal distribution\n",
    "h = torch.FloatTensor(np.random.multivariate_normal(mean=np.zeros(2), cov=cov, size=2))\n",
    "h"
   ]
  },
  {
   "cell_type": "code",
   "execution_count": 62,
   "metadata": {},
   "outputs": [
    {
     "ename": "AttributeError",
     "evalue": "'tuple' object has no attribute 'shape'",
     "output_type": "error",
     "traceback": [
      "\u001b[1;31m---------------------------------------------------------------------------\u001b[0m",
      "\u001b[1;31mAttributeError\u001b[0m                            Traceback (most recent call last)",
      "Cell \u001b[1;32mIn[62], line 3\u001b[0m\n\u001b[0;32m      1\u001b[0m \u001b[38;5;66;03m#h is 3x2 matrix\u001b[39;00m\n\u001b[0;32m      2\u001b[0m h \u001b[38;5;241m=\u001b[39m torch\u001b[38;5;241m.\u001b[39mFloatTensor(np\u001b[38;5;241m.\u001b[39mrandom\u001b[38;5;241m.\u001b[39mmultivariate_normal(mean\u001b[38;5;241m=\u001b[39mnp\u001b[38;5;241m.\u001b[39mzeros(\u001b[38;5;241m2\u001b[39m), cov\u001b[38;5;241m=\u001b[39mcov, size\u001b[38;5;241m=\u001b[39m\u001b[38;5;241m3\u001b[39m))\n\u001b[1;32m----> 3\u001b[0m \u001b[43m(\u001b[49m\u001b[43mh\u001b[49m\u001b[43m,\u001b[49m\u001b[43mh\u001b[49m\u001b[43m)\u001b[49m\u001b[38;5;241;43m.\u001b[39;49m\u001b[43mshape\u001b[49m\n",
      "\u001b[1;31mAttributeError\u001b[0m: 'tuple' object has no attribute 'shape'"
     ]
    }
   ],
   "source": [
    "#h is 3x2 matrix\n",
    "h = torch.FloatTensor(np.random.multivariate_normal(mean=np.zeros(2), cov=cov, size=3))\n",
    "(h,h).shape"
   ]
  },
  {
   "cell_type": "code",
   "execution_count": 25,
   "metadata": {},
   "outputs": [
    {
     "name": "stderr",
     "output_type": "stream",
     "text": [
      "C:\\Users\\lavku\\AppData\\Local\\Temp\\ipykernel_4396\\3620180161.py:9: ComplexWarning: Casting complex values to real discards the imaginary part\n",
      "  samples = np.random.multivariate_normal(mean, cov_matrix, num_samples)\n"
     ]
    },
    {
     "ename": "UFuncTypeError",
     "evalue": "Cannot cast ufunc 'add' output from dtype('complex128') to dtype('float64') with casting rule 'same_kind'",
     "output_type": "error",
     "traceback": [
      "\u001b[1;31m---------------------------------------------------------------------------\u001b[0m",
      "\u001b[1;31mUFuncTypeError\u001b[0m                            Traceback (most recent call last)",
      "Cell \u001b[1;32mIn[25], line 9\u001b[0m\n\u001b[0;32m      7\u001b[0m \u001b[38;5;66;03m# Generate samples\u001b[39;00m\n\u001b[0;32m      8\u001b[0m num_samples \u001b[38;5;241m=\u001b[39m \u001b[38;5;241m2\u001b[39m\n\u001b[1;32m----> 9\u001b[0m samples \u001b[38;5;241m=\u001b[39m \u001b[43mnp\u001b[49m\u001b[38;5;241;43m.\u001b[39;49m\u001b[43mrandom\u001b[49m\u001b[38;5;241;43m.\u001b[39;49m\u001b[43mmultivariate_normal\u001b[49m\u001b[43m(\u001b[49m\u001b[43mmean\u001b[49m\u001b[43m,\u001b[49m\u001b[43m \u001b[49m\u001b[43mcov_matrix\u001b[49m\u001b[43m,\u001b[49m\u001b[43m \u001b[49m\u001b[43mnum_samples\u001b[49m\u001b[43m)\u001b[49m\n\u001b[0;32m     11\u001b[0m \u001b[38;5;66;03m# Print the sampled complex numbers\u001b[39;00m\n\u001b[0;32m     12\u001b[0m \u001b[38;5;28mprint\u001b[39m(\u001b[38;5;124m\"\u001b[39m\u001b[38;5;124mSampled complex numbers:\u001b[39m\u001b[38;5;124m\"\u001b[39m)\n",
      "File \u001b[1;32mnumpy\\\\random\\\\mtrand.pyx:4252\u001b[0m, in \u001b[0;36mnumpy.random.mtrand.RandomState.multivariate_normal\u001b[1;34m()\u001b[0m\n",
      "\u001b[1;31mUFuncTypeError\u001b[0m: Cannot cast ufunc 'add' output from dtype('complex128') to dtype('float64') with casting rule 'same_kind'"
     ]
    }
   ],
   "source": [
    "import numpy as np\n",
    "\n",
    "# Set the mean and covariance matrix\n",
    "mean = np.array([1 + 2j, -3 - 1j], dtype=np.complex128)  # Specify complex data type\n",
    "cov_matrix = np.array([[2 + 1j, 1 - 1j], [1 + 1j, 3 - 2j]], dtype=np.complex128)  # Specify complex data type\n",
    "\n",
    "# Generate samples\n",
    "num_samples = 2\n",
    "samples = np.random.multivariate_normal(np.real(mean), np.real(cov_matrix), num_samples) + 1j * np.random.multivariate_normal(np.imag(mean), np.imag(cov_matrix), num_samples)\n",
    "\n",
    "# Print the sampled complex numbers\n",
    "print(\"Sampled complex numbers:\")\n",
    "for i in range(num_samples):\n",
    "    print(f\"Sample {i + 1}: {samples[i]}\")\n"
   ]
  },
  {
   "cell_type": "code",
   "execution_count": 1,
   "metadata": {},
   "outputs": [
    {
     "data": {
      "image/png": "[encoded data removed]",
      "text/plain": [
       "<Figure size 600x600 with 1 Axes>"
      ]
     },
     "metadata": {},
     "output_type": "display_data"
    }
   ],
   "source": [
    "\n",
    "# Generate synthetic data for a simple classification task\n",
    "def generate_data(num_classes=3, num_samples_per_class=10):\n",
    "    data = []\n",
    "    labels = []\n",
    "\n",
    "    for class_idx in range(num_classes):\n",
    "        class_data = np.random.randn(num_samples_per_class, 2) + 3 * class_idx\n",
    "        class_labels = np.ones(num_samples_per_class) * class_idx\n",
    "        data.append(class_data)\n",
    "        labels.append(class_labels)\n",
    "\n",
    "    return np.vstack(data), np.concatenate(labels)\n",
    "\n",
    "class SimpleMAMLClassification:\n",
    "    def __init__(self, config):\n",
    "        self.config = config\n",
    "\n",
    "    def train(self, num_iterations, num_inner_updates):\n",
    "        # Generate synthetic data\n",
    "        data, labels = generate_data()\n",
    "\n",
    "        # MAML training loop\n",
    "        for iteration in range(num_iterations):\n",
    "            # Perform inner loop adaptation using MAML\n",
    "            adapted_model = self.adapt_model(data, labels, num_inner_updates)\n",
    "\n",
    "            # Visualize classification\n",
    "            self.plot_classification(adapted_model, data, labels)\n",
    "\n",
    "    def adapt_model(self, data, labels, num_inner_updates):\n",
    "        # Convert data to PyTorch tensors\n",
    "        data_tensor = torch.tensor(data, dtype=torch.float32)\n",
    "        labels_tensor = torch.tensor(labels, dtype=torch.long)\n",
    "\n",
    "        # Initialize model (logistic regression in this case)\n",
    "        model = torch.nn.Linear(2, self.config['num_classes'])\n",
    "\n",
    "        # Placeholder for adaptation steps (simple logistic regression - no inner loop updates)\n",
    "        # ...\n",
    "\n",
    "        return model\n",
    "\n",
    "    def plot_classification(self, model, data, labels):\n",
    "        # Convert data to PyTorch tensors\n",
    "        data_tensor = torch.tensor(data, dtype=torch.float32)\n",
    "        labels_tensor = torch.tensor(labels, dtype=torch.long)\n",
    "\n",
    "        # Perform classification using the adapted model\n",
    "        with torch.no_grad():\n",
    "            logits = model(data_tensor)\n",
    "            predictions = torch.argmax(logits, dim=1).numpy()\n",
    "\n",
    "        # Plot the classification results\n",
    "        plt.figure(figsize=(6, 6))\n",
    "        for class_idx in range(self.config['num_classes']):\n",
    "            class_data = data[labels == class_idx]\n",
    "            plt.scatter(class_data[:, 0], class_data[:, 1], label=f'Class {class_idx}')\n",
    "\n",
    "        plt.title('Classification Results')\n",
    "        plt.legend()\n",
    "        plt.show()\n",
    "\n",
    "# Example usage:\n",
    "config = {\n",
    "    'num_classes': 3,\n",
    "    # Add more configuration parameters as needed\n",
    "}\n",
    "\n",
    "# Initialize SimpleMAMLClassification\n",
    "simple_maml_classifier = SimpleMAMLClassification(config)\n",
    "\n",
    "# Train the MAML model and plot classification results\n",
    "simple_maml_classifier.train(num_iterations=1, num_inner_updates=0)  # Adjust num_iterations and num_inner_updates as needed\n"
   ]
  },
  {
   "cell_type": "code",
   "execution_count": 1,
   "metadata": {},
   "outputs": [],
   "source": [
    "import pickle\n",
    "import matplotlib.pyplot as plt\n",
    "import numpy as np\n",
    "import torch"
   ]
  },
  {
   "cell_type": "code",
   "execution_count": 2,
   "metadata": {},
   "outputs": [
    {
     "data": {
      "text/plain": [
       "torch.Size([1000, 3200, 4])"
      ]
     },
     "execution_count": 2,
     "metadata": {},
     "output_type": "execute_result"
    }
   ],
   "source": [
    "with open('./offline_realistic/meta_train_set/input_set.pckl', 'rb') as file:\n",
    "    data1 = pickle.load(file)\n",
    "data1.shape"
   ]
  },
  {
   "cell_type": "code",
   "execution_count": 3,
   "metadata": {},
   "outputs": [
    {
     "data": {
      "text/plain": [
       "torch.Size([1000, 2])"
      ]
     },
     "execution_count": 3,
     "metadata": {},
     "output_type": "execute_result"
    }
   ],
   "source": [
    "with open('./offline_realistic/meta_train_set/channel_set.pckl', 'rb') as file:\n",
    "    data2 = pickle.load(file)\n",
    "data2.shape"
   ]
  },
  {
   "cell_type": "code",
   "execution_count": 4,
   "metadata": {},
   "outputs": [
    {
     "data": {
      "text/plain": [
       "torch.Size([1000, 2])"
      ]
     },
     "execution_count": 4,
     "metadata": {},
     "output_type": "execute_result"
    }
   ],
   "source": [
    "with open('./offline_realistic/meta_train_set/non_linear_set.pckl', 'rb') as file:\n",
    "    data3 = pickle.load(file)\n",
    "data3.shape"
   ]
  },
  {
   "cell_type": "code",
   "execution_count": 11,
   "metadata": {},
   "outputs": [
    {
     "name": "stdout",
     "output_type": "stream",
     "text": [
      "tensor([[-3.0000, -3.0000, -3.0286, -1.6459],\n",
      "        [-3.0000,  1.0000, -3.6428,  2.2231],\n",
      "        [ 1.0000,  1.0000,  0.8797,  0.3728],\n",
      "        [ 1.0000, -3.0000,  1.7412, -3.4521],\n",
      "        [-3.0000,  3.0000, -3.7144,  4.5116],\n",
      "        [ 3.0000,  1.0000,  2.9745, -0.2993],\n",
      "        [ 1.0000, -1.0000,  1.3428, -0.8985],\n",
      "        [-1.0000, -3.0000, -0.8953, -2.7328],\n",
      "        [ 3.0000,  3.0000,  2.9055,  2.1364],\n",
      "        [ 3.0000, -1.0000,  3.5003, -2.1014]]) tensor([ 1.1089, -0.1905]) tensor([0.1038, 0.2381])\n"
     ]
    }
   ],
   "source": [
    "print(data1[0,0:10],data2[0],data3[0])"
   ]
  },
  {
   "cell_type": "code",
   "execution_count": 14,
   "metadata": {},
   "outputs": [],
   "source": [
    "device = torch.device('cuda')"
   ]
  },
  {
   "cell_type": "code",
   "execution_count": 16,
   "metadata": {},
   "outputs": [],
   "source": [
    "def generating_channel(var_array, device_for_data):  # channel (rayleigh)\n",
    "    device = device_for_data\n",
    "    h = torch.empty(len(var_array), 2)\n",
    "    # h = [-1,0]\n",
    "    for i in range(len(var_array)):\n",
    "        Chan = torch.distributions.multivariate_normal.MultivariateNormal(torch.zeros(2), var_array[i] * torch.eye(2))\n",
    "        h_tmp = Chan.sample()\n",
    "        h[i] = h_tmp\n",
    "    h = h.to(device)\n",
    "    return h\n",
    "def generating_symbol(M, device_for_data):\n",
    "    device = device_for_data\n",
    "    Bern = torch.distributions.bernoulli.Bernoulli(torch.tensor([0.5]))  # equal prob.\n",
    "    if M == 2:  # BPSK\n",
    "        symb = Bern.sample()\n",
    "        symb = symb.to(device)\n",
    "        if symb == 0:\n",
    "            symb = -1\n",
    "        symb = torch.FloatTensor([symb, 0])\n",
    "    elif M == 4:  # 4-QAM\n",
    "        symb1 = Bern.sample()\n",
    "        symb2 = Bern.sample()\n",
    "        symb1 = symb1.to(device)\n",
    "        symb2 = symb2.to(device)\n",
    "        if symb1 == 0:\n",
    "            symb1 = -1\n",
    "        if symb2 == 0:\n",
    "            symb2 = -1\n",
    "        symb = torch.FloatTensor([symb1, symb2])\n",
    "    elif M == 5:  # 4-PAM\n",
    "        symb1 = Bern.sample()\n",
    "        symb2 = Bern.sample()\n",
    "        symb1 = symb1.to(device)\n",
    "        symb2 = symb2.to(device)\n",
    "        if symb1 == 0:\n",
    "            symb1 = -1\n",
    "        if symb2 == 0:\n",
    "            symb2 = -1\n",
    "        symb1 = symb1 * 2\n",
    "        symb = torch.FloatTensor([symb1 + symb2, 0])  # -3, -1,, 1, 3 : 4-PAM\n",
    "    elif M == 16:  # 16-QAM\n",
    "        symb1 = Bern.sample()\n",
    "        symb2 = Bern.sample()\n",
    "        symb3 = Bern.sample()\n",
    "        symb4 = Bern.sample()\n",
    "        symb1 = symb1.to(device)\n",
    "        symb2 = symb2.to(device)\n",
    "        symb3 = symb3.to(device)\n",
    "        symb4 = symb4.to(device)\n",
    "        if symb1 == 0:\n",
    "            symb1 = -1\n",
    "        if symb2 == 0:\n",
    "            symb2 = -1\n",
    "        if symb3 == 0:\n",
    "            symb3 = -1\n",
    "        if symb4 == 0:\n",
    "            symb4 = -1\n",
    "        symb3 = symb3 * 2\n",
    "        symb4 = symb4 * 2\n",
    "        symb = torch.FloatTensor([symb1 + symb3, symb2 + symb4])\n",
    "    else:\n",
    "        NotImplementedError()\n",
    "    symb = symb.to(device)\n",
    "    return symb\n",
    "def generating_noise_dist(var):\n",
    "    Noise = torch.distributions.multivariate_normal.MultivariateNormal(torch.zeros(2), var * torch.eye(2))\n",
    "    return Noise\n",
    "def iq_imbalance(s, epsilon, delta, device):\n",
    "    s = s.to(device)\n",
    "    s_distorted = torch.FloatTensor([0, 0])\n",
    "    s_distorted = s_distorted.to(device)\n",
    "    s_distorted[0] = (1 + epsilon) * torch.cos(delta) * s[0] - (1 + epsilon) * torch.sin(delta) * s[1]\n",
    "    s_distorted[1] = (1 - epsilon) * torch.cos(delta) * s[1] - (1 - epsilon) * torch.sin(delta) * s[0]\n",
    "    return s_distorted"
   ]
  },
  {
   "cell_type": "code",
   "execution_count": null,
   "metadata": {},
   "outputs": [],
   "source": [
    "def generating_training_set(curr_dev_char, K_TR, K_TE, num_dev, M, var_array, var, mean_array0, mean_array1,\n",
    "                             power, device):\n",
    "    ## generating training dataset\n",
    "    train_set = torch.zeros(num_dev, K_TR + K_TE, 4)  # 4 = 2+2, s and y\n",
    "    train_set = train_set.to(device)\n",
    "\n",
    "    channel_set_for_vis = torch.zeros(num_dev, 2)\n",
    "    channel_set_for_vis = channel_set_for_vis.to(device)\n",
    "\n",
    "    non_linearity_set_genie = torch.zeros(num_dev, 2)\n",
    "    non_linearity_set_genie = non_linearity_set_genie.to(device)\n",
    "\n",
    "    if curr_dev_char is None:\n",
    "        print(\n",
    "            'in meta-training, we are generating new channel and distortion for test (if you are in online, something wrong!!!!')\n",
    "        h = generating_channel(var_array, device)\n",
    "        l_0 = mean_array0\n",
    "        l_1 = mean_array1\n",
    "    else:\n",
    "        h = curr_dev_char[0]\n",
    "        l_0 = curr_dev_char[1]\n",
    "        l_1 = curr_dev_char[2]\n",
    "\n",
    "    for ind_d in range(num_dev):\n",
    "        print('curr dev', ind_d)\n",
    "        for i in range(K_TR + K_TE):\n",
    "            s_tmp = generating_symbol(M, device)\n",
    "            \n",
    "            train_set[ind_d, i, :2] = s_tmp  # generating symbol # original constellation point without distortion\n",
    "            Noise = generating_noise_dist(var)\n",
    "            n = Noise.sample()\n",
    "            n = n.to(device)\n",
    "            \n",
    "            s_tmp = iq_imbalance(s_tmp, l_0[ind_d], l_1[ind_d], device)\n",
    "            s_tmp[0] = s_tmp[0] * power\n",
    "            s_tmp[1] = s_tmp[1] * power\n",
    "        \n",
    "            train_set[ind_d, i, 2] = h[ind_d][0] * s_tmp[0] - h[ind_d][1] * s_tmp[1]\n",
    "            train_set[ind_d, i, 3] = h[ind_d][0] * s_tmp[1] + h[ind_d][1] * s_tmp[0]\n",
    "            train_set[ind_d, i, 2:] = train_set[ind_d, i, 2:] + n  # adding noise\n",
    "            \n",
    "    return train_set, channel_set_for_vis, non_linearity_set_genie\n",
    "\n"
   ]
  },
  {
   "cell_type": "code",
   "execution_count": null,
   "metadata": {},
   "outputs": [],
   "source": [
    "basic_distribution_for_amplitude = torch.distributions.beta.Beta(5, 2) # between 0 and 1\n",
    "basic_distribution_for_phase = torch.distributions.beta.Beta(5, 2) # between 0 and 1\n",
    "\n",
    "mean_array0 = []\n",
    "mean_array1 = []\n",
    "for ind_dev_meta_train in range(num_dev):\n",
    "    ampl_beta_rv = basic_distribution_for_amplitude.sample()\n",
    "    phase_beta_rv = basic_distribution_for_phase.sample()\n",
    "    ampl_distortion_curr_dev = ampl_beta_rv * 0.15  # we need to multiply with max value: 0.15\n",
    "    phase_distortion_curr_dev = phase_beta_rv * (numpy.pi / 180) * 15 # 15 degree\n",
    "    mean_array0.append(ampl_distortion_curr_dev)\n",
    "    mean_array1.append(phase_distortion_curr_dev)"
   ]
  },
  {
   "cell_type": "code",
   "execution_count": 90,
   "metadata": {},
   "outputs": [],
   "source": [
    "i = torch.randint(0,1000,())\n",
    "\n",
    "x = data[i][:,2:4]\n",
    "\n",
    "labels = data[i][:,0:2]\n",
    "y = encode_labels(labels[:,0],labels[:,1])"
   ]
  },
  {
   "cell_type": "code",
   "execution_count": 88,
   "metadata": {},
   "outputs": [],
   "source": [
    "labels = data[1][:,0:2]"
   ]
  },
  {
   "cell_type": "code",
   "execution_count": 89,
   "metadata": {},
   "outputs": [],
   "source": [
    "def encode_labels(a: int, b: int) -> int:\n",
    "    \"\"\"Encode pair (a, b) into a unique numerical label\"\"\"\n",
    "    mapping = {(-3, -3): 0, (-3, -1): 1, (-3, 1): 2, (-3, 3): 3,\n",
    "               (-1, -3): 4, (-1, -1): 5, (-1, 1): 6, (-1, 3): 7,\n",
    "               (1, -3): 8, (1, -1): 9, (1, 1): 10, (1, 3): 11,\n",
    "               (3, -3): 12, (3, -1): 13, (3, 1): 14, (3, 3): 15}\n",
    "    \n",
    "    pairs = torch.stack((a, b), dim=1)\n",
    "    encoded_labels = torch.tensor([mapping[tuple(pair.tolist())] for pair in pairs])\n",
    "\n",
    "    return encoded_labels\n",
    "enlab = encode_labels(labels[:,0],labels[:,1])"
   ]
  },
  {
   "cell_type": "code",
   "execution_count": 87,
   "metadata": {},
   "outputs": [
    {
     "data": {
      "text/plain": [
       "torch.Size([3200])"
      ]
     },
     "execution_count": 87,
     "metadata": {},
     "output_type": "execute_result"
    }
   ],
   "source": [
    "enlab.shape"
   ]
  },
  {
   "cell_type": "code",
   "execution_count": 91,
   "metadata": {},
   "outputs": [
    {
     "data": {
      "text/plain": [
       "(array([400., 200., 400., 200., 400., 200., 400., 200., 400., 400.]),\n",
       " array([ 0. ,  1.5,  3. ,  4.5,  6. ,  7.5,  9. , 10.5, 12. , 13.5, 15. ]),\n",
       " <BarContainer object of 10 artists>)"
      ]
     },
     "execution_count": 91,
     "metadata": {},
     "output_type": "execute_result"
    },
    {
     "data": {
      "image/png": "[encoded data removed]",
      "text/plain": [
       "<Figure size 640x480 with 1 Axes>"
      ]
     },
     "metadata": {},
     "output_type": "display_data"
    }
   ],
   "source": [
    "plt.hist(y)"
   ]
  },
  {
   "cell_type": "code",
   "execution_count": 25,
   "metadata": {},
   "outputs": [
    {
     "name": "stdout",
     "output_type": "stream",
     "text": [
      "0.7985176668231244\n"
     ]
    }
   ],
   "source": [
    "import numpy as np\n",
    "from scipy.special import jv\n",
    "\n",
    "x = 110*2*3.141*1e-5*20*2e9/2.998e8  # the value of x at which to calculate the Bessel function\n",
    "#speed of light using numpy\n",
    "\n",
    "\n",
    "bessel_0 = jv(0, x)\n",
    "print(bessel_0)\n"
   ]
  },
  {
   "cell_type": "code",
   "execution_count": 1,
   "metadata": {},
   "outputs": [
    {
     "ename": "NameError",
     "evalue": "name 'torch' is not defined",
     "output_type": "error",
     "traceback": [
      "\u001b[1;31m---------------------------------------------------------------------------\u001b[0m",
      "\u001b[1;31mNameError\u001b[0m                                 Traceback (most recent call last)",
      "Cell \u001b[1;32mIn[1], line 1\u001b[0m\n\u001b[1;32m----> 1\u001b[0m t \u001b[38;5;241m=\u001b[39m \u001b[43mtorch\u001b[49m\u001b[38;5;241m.\u001b[39mFloatTensor([torch\u001b[38;5;241m.\u001b[39mrandint(\u001b[38;5;241m0\u001b[39m, \u001b[38;5;241m4\u001b[39m, ()) \u001b[38;5;241m*\u001b[39m \u001b[38;5;241m0.2\u001b[39m \u001b[38;5;241m+\u001b[39m\u001b[38;5;241m0.2\u001b[39m])\n",
      "\u001b[1;31mNameError\u001b[0m: name 'torch' is not defined"
     ]
    }
   ],
   "source": [
    "t = torch.FloatTensor([torch.randint(0, 4, ()) * 0.2 +0.2])"
   ]
  }
 ],
 "metadata": {
  "kernelspec": {
   "display_name": "torch",
   "language": "python",
   "name": "python3"
  },
  "language_info": {
   "codemirror_mode": {
    "name": "ipython",
    "version": 3
   },
   "file_extension": ".py",
   "mimetype": "text/x-python",
   "name": "python",
   "nbconvert_exporter": "python",
   "pygments_lexer": "ipython3",
   "version": "3.9.18"
  }
 },
 "nbformat": 4,
 "nbformat_minor": 2
}
